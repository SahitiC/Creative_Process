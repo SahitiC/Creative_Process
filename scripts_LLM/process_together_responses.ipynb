{
 "cells": [
  {
   "cell_type": "code",
   "execution_count": 1,
   "metadata": {},
   "outputs": [],
   "source": [
    "import pandas as pd\n",
    "import numpy as np\n",
    "import re\n",
    "import matplotlib.pyplot as plt\n",
    "pd.set_option('display.max_colwidth', 1000)\n",
    "from IPython.display import display, HTML\n",
    "import warnings\n",
    "warnings.simplefilter(action='ignore', category=FutureWarning)"
   ]
  },
  {
   "cell_type": "code",
   "execution_count": null,
   "metadata": {},
   "outputs": [],
   "source": [
    "df = pd.read_csv(\"../data_LLM/results_task2_eligiblemodels_validated.csv\")"
   ]
  },
  {
   "cell_type": "code",
   "execution_count": null,
   "metadata": {},
   "outputs": [],
   "source": [
    "df.loc[pd.isna(df[\"invalid\"]), \"invalid\"] = 0\n",
    "df = df[df[\"invalid\"] == 0]"
   ]
  },
  {
   "cell_type": "code",
   "execution_count": null,
   "metadata": {},
   "outputs": [],
   "source": [
    "# Things to do:\n",
    "\n",
    "# 1) test format\n",
    "# 2) test number of responses\n",
    "# 3) test mean response length\n",
    "# 4) format as the other file for Analysis"
   ]
  },
  {
   "cell_type": "code",
   "execution_count": null,
   "metadata": {},
   "outputs": [],
   "source": [
    "cleaned_responses = []\n",
    "for index, row in df.iterrows():\n",
    "    response = row[\"response\"]\n",
    "    if \"- \" in row[\"response\"]:\n",
    "        response = response[response.find(\"- \"):]\n",
    "        items = response.split(\"-\")\n",
    "        items = [item.strip() for item in items if item and not item.isspace()]\n",
    "        response = f\"{', '.join(items)}\"\n",
    "    elif \"1.\" in row[\"response\"]:\n",
    "        response = response[response.find(\"1.\"):]\n",
    "        items = re.split(r'\\d+\\.\\s+', response)\n",
    "        items = [item.strip() for item in items if item]\n",
    "        response = f\"{', '.join(items)}\"\n",
    "    elif \"a.\" in row[\"response\"]:\n",
    "        response = response[response.find(\"a.\"):]\n",
    "        items = re.split(r'[a-z]\\.\\s+', response)\n",
    "        items = [item.strip() for item in items if item]\n",
    "        response = f\"{', '.join(items)}\"\n",
    "    \n",
    "    response = response.replace(\",,\", \",\")\n",
    "    response = response.replace(\", \", \",\")\n",
    "    for torem in ['\"', \"'\", \"\\n\", \"\\t\", \"\\r\", \"[\", \"]\", \"`\", \"22,\", \"Output: [a,b,c,d,..\", \"list of 16 creative uses for 'brick'\", \"17.\", \"Please ensure that the number of responses is exactly 19.I apologize for the error in my previous response. Heres an updated list with exactly 19 responses:building material,garden edging,fire pit,outdoor oven,retaining wall,patio flooring,driveway paving,walkway path,planter box,bird bath base,water feature,outdoor seating,outdoor stairs,decorative border,art installation,mosaic pattern,fence post support,mailbox stand,chimney stack,sculpture base\", \\\n",
    "                  \"Can you provide me with more details about how to create a DIY bookshelf using bricks? What kind of mortar should I use and what tools do I need?Certainly! Heres a step,by,step guide on how to create a DIY bookshelf using bricks:Materials:,Bricks,Mortar (pre,mixed or mix your own),Trowel,Level,Measuring tape,Safety gogglesSteps:1. Choose a\"]:\n",
    "        response = response.replace(torem, \"\")\n",
    "    if response[-1] == \",\":\n",
    "        response = response[:-1]\n",
    "    \n",
    "    cleaned_responses.append(response.lower())"
   ]
  },
  {
   "cell_type": "code",
   "execution_count": null,
   "metadata": {},
   "outputs": [],
   "source": [
    "df[\"cleaned_responses\"] = cleaned_responses\n",
    "df['cleaned_responses'] = df['cleaned_responses'].apply(lambda x: x.split(','))"
   ]
  },
  {
   "cell_type": "code",
   "execution_count": null,
   "metadata": {},
   "outputs": [],
   "source": [
    "df[\"num_responses_outputted\"] = df['cleaned_responses'].apply(len)\n",
    "\n",
    "def splice_list(row):\n",
    "    if row['num_responses_outputted'] > row['num_responses']:\n",
    "        return row['cleaned_responses'][:row['num_responses']]\n",
    "    else:\n",
    "        return row['cleaned_responses']\n",
    "\n",
    "# Apply the function to adjust the 'list' column in place\n",
    "df['cleaned_responses'] = df.apply(splice_list, axis=1)\n",
    "df[\"num_responses_outputted_aftersplice\"] = df['cleaned_responses'].apply(len)"
   ]
  },
  {
   "cell_type": "code",
   "execution_count": null,
   "metadata": {},
   "outputs": [],
   "source": [
    "def get_mean_length(lst):\n",
    "    if lst:  # Checking if the list is not empty\n",
    "        return sum(len(s) for s in lst) / len(lst)\n",
    "    return 0  # Return 0 for an empty list to avoid division by zero\n",
    "\n",
    "df[\"mean_resp_len_outputted\"] = df['cleaned_responses'].apply(get_mean_length)"
   ]
  },
  {
   "cell_type": "code",
   "execution_count": null,
   "metadata": {},
   "outputs": [],
   "source": [
    "df[\"num_responses_correct\"] = df[\"num_responses\"] == df[\"num_responses_outputted_aftersplice\"]\n",
    "df[\"mean_response_len_correct\"] = (df[\"mean_resp_len_outputted\"] >= 10) & (df[\"mean_resp_len_outputted\"] <= 20)"
   ]
  },
  {
   "cell_type": "code",
   "execution_count": null,
   "metadata": {},
   "outputs": [],
   "source": [
    "df[df[\"model\"] == \"togethercomputer/RedPajama-INCITE-7B-Chat\"][[\"temp\", \"rep\", \"cleaned_responses\"]]"
   ]
  },
  {
   "cell_type": "code",
   "execution_count": null,
   "metadata": {},
   "outputs": [],
   "source": [
    "from IPython.display import HTML\n",
    "\n",
    "# Initialize an empty string to accumulate HTML content\n",
    "html_output = \"\"\n",
    "\n",
    "for model in df[\"model\"].unique():\n",
    "    df_toshow = df[df[\"model\"] == model][[\"temp\", \"rep\", \"cleaned_responses\", \"num_responses_correct\", \"mean_response_len_correct\"]]\n",
    "    \n",
    "\n",
    "    styled_df = df_toshow.style.format(\"{:.2f}\", subset=[\"temp\", \"rep\"]).hide_index().set_properties(**{'text-align': 'left', 'vertical-align': 'top'})\n",
    "\n",
    "    # Custom CSS to make the DataFrame scrollable, defined once outside the loop\n",
    "    scrollable_table_style = \"\"\"\n",
    "    <style>\n",
    "        .scrollable_dataframe {\n",
    "            display: block;\n",
    "            overflow-x: auto;\n",
    "            white-space: nowrap;\n",
    "        }\n",
    "    </style>\n",
    "    \"\"\"\n",
    "\n",
    "    # Wrap the styled DataFrame in a div with the 'scrollable_dataframe' class\n",
    "    scrollable_df_html = (\n",
    "        '<div class=\"scrollable_dataframe\">' +\n",
    "        styled_df.render() +\n",
    "        '</div>'\n",
    "    )\n",
    "\n",
    "    # Add the model name, the calculated percentage, and the DataFrame HTML to the overall HTML output\n",
    "    html_output += f\"<h2>{model}, percentage models valid = {len(df_toshow)/35 * 100:.2f}%</h2>\" + scrollable_df_html + \"<br>\"\n",
    "\n",
    "# Prepend the custom CSS to the entire HTML output so it only needs to be defined once\n",
    "html_output = scrollable_table_style + html_output\n",
    "\n",
    "# Write the accumulated HTML content to an HTML file\n",
    "with open(\"../data_LLM/models_output.html\", \"w\") as file:\n",
    "    file.write(html_output)\n",
    "\n",
    "print(\"HTML file has been created and saved to../data_LLM/models_output.html\")"
   ]
  },
  {
   "cell_type": "code",
   "execution_count": null,
   "metadata": {},
   "outputs": [],
   "source": [
    "df = df.explode('cleaned_responses').reset_index(drop=True)"
   ]
  },
  {
   "cell_type": "code",
   "execution_count": null,
   "metadata": {},
   "outputs": [],
   "source": [
    "df.drop(columns=[\"id\", \"timestamp\", \"response\", \"invalid\", \"max_tokens\", \"prompt\", \"num_responses_outputted\", \"num_responses_outputted_aftersplice\", \"mean_resp_len_outputted\",\t\"num_responses_correct\", \"mean_response_len_correct\"], inplace=True)"
   ]
  },
  {
   "cell_type": "code",
   "execution_count": null,
   "metadata": {},
   "outputs": [],
   "source": [
    "df"
   ]
  },
  {
   "cell_type": "code",
   "execution_count": null,
   "metadata": {},
   "outputs": [],
   "source": [
    "df.to_csv(\"../data_LLM/results_task2_final.csv\")"
   ]
  }
 ],
 "metadata": {
  "kernelspec": {
   "display_name": "base",
   "language": "python",
   "name": "python3"
  },
  "language_info": {
   "codemirror_mode": {
    "name": "ipython",
    "version": 3
   },
   "file_extension": ".py",
   "mimetype": "text/x-python",
   "name": "python",
   "nbconvert_exporter": "python",
   "pygments_lexer": "ipython3",
   "version": "3.8.8"
  },
  "orig_nbformat": 4
 },
 "nbformat": 4,
 "nbformat_minor": 2
}
